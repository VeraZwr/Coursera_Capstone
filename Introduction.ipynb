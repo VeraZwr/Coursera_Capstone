{
    "cells": [
        {
            "cell_type": "markdown",
            "metadata": {
                "collapsed": true
            },
            "source": "<h1>Battle of Neighborhoods with two Universities in Toronto</h1>"
        },
        {
            "cell_type": "markdown",
            "metadata": {},
            "source": "<h3>Problem description</h3>\n\nToronto is a large city that have many universities. In this project, two universities - University of Toronto and York University are selected. We will compare the neighborhoods where these two universties are allocated and find the surrounding venues. Therefore, the business who's targeting customer is universtiy students can have a better view about both popular and shortage service around universities, and give corresponding business decisions."
        },
        {
            "cell_type": "markdown",
            "metadata": {},
            "source": "<h3>Sakeholders</h3>\nBusinessman"
        },
        {
            "cell_type": "markdown",
            "metadata": {},
            "source": "<h3>Data Selection</h3>\n1.The Canadian postal code table form wikipidia that provided in the course. This can provide the additional information when searching universities' surrounding neighborhoods\n2.Four Square API is being used to get venues details for neighborhoods in New York. We will use explore query, search query and other ways to fully utilize the API functionalities."
        },
        {
            "cell_type": "code",
            "execution_count": null,
            "metadata": {},
            "outputs": [],
            "source": ""
        }
    ],
    "metadata": {
        "kernelspec": {
            "display_name": "Python 3.7",
            "language": "python",
            "name": "python3"
        },
        "language_info": {
            "codemirror_mode": {
                "name": "ipython",
                "version": 3
            },
            "file_extension": ".py",
            "mimetype": "text/x-python",
            "name": "python",
            "nbconvert_exporter": "python",
            "pygments_lexer": "ipython3",
            "version": "3.7.9"
        }
    },
    "nbformat": 4,
    "nbformat_minor": 1
}